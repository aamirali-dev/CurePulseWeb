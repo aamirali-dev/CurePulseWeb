{
 "cells": [
  {
   "cell_type": "code",
   "execution_count": 2,
   "metadata": {},
   "outputs": [
    {
     "data": {
      "text/html": [
       "<div>\n",
       "<style scoped>\n",
       "    .dataframe tbody tr th:only-of-type {\n",
       "        vertical-align: middle;\n",
       "    }\n",
       "\n",
       "    .dataframe tbody tr th {\n",
       "        vertical-align: top;\n",
       "    }\n",
       "\n",
       "    .dataframe thead th {\n",
       "        text-align: right;\n",
       "    }\n",
       "</style>\n",
       "<table border=\"1\" class=\"dataframe\">\n",
       "  <thead>\n",
       "    <tr style=\"text-align: right;\">\n",
       "      <th></th>\n",
       "      <th>A</th>\n",
       "      <th>B</th>\n",
       "      <th>C</th>\n",
       "    </tr>\n",
       "  </thead>\n",
       "  <tbody>\n",
       "    <tr>\n",
       "      <th>0</th>\n",
       "      <td>[1.234, 2.567, 3.789]</td>\n",
       "      <td>[4.123, 5.456, 6.789]</td>\n",
       "      <td>[7.123, 8.456, 9.789]</td>\n",
       "    </tr>\n",
       "  </tbody>\n",
       "</table>\n",
       "</div>"
      ],
      "text/plain": [
       "                       A                      B                      C\n",
       "0  [1.234, 2.567, 3.789]  [4.123, 5.456, 6.789]  [7.123, 8.456, 9.789]"
      ]
     },
     "execution_count": 2,
     "metadata": {},
     "output_type": "execute_result"
    }
   ],
   "source": [
    "import pandas as pd\n",
    "\n",
    "# Create a sample DataFrame\n",
    "data = {\n",
    "    'A': [[1.234, 2.567, 3.789]],\n",
    "    'B': [[4.123, 5.456, 6.789]],\n",
    "    'C': [[7.123, 8.456, 9.789]]\n",
    "}\n",
    "\n",
    "df = pd.DataFrame(data)\n",
    "\n",
    "# Define the number of decimal places to round to\n",
    "decimal_places = 1  # Change this as needed\n",
    "\n",
    "# Round all float numbers to the specified number of decimal places\n",
    "df = df.round(decimal_places)\n",
    "\n",
    "# Now, the DataFrame 'df' contains all float numbers rounded to 'decimal_places' decimal places\n",
    "df"
   ]
  },
  {
   "cell_type": "code",
   "execution_count": 6,
   "metadata": {},
   "outputs": [
    {
     "data": {
      "text/html": [
       "<div>\n",
       "<style scoped>\n",
       "    .dataframe tbody tr th:only-of-type {\n",
       "        vertical-align: middle;\n",
       "    }\n",
       "\n",
       "    .dataframe tbody tr th {\n",
       "        vertical-align: top;\n",
       "    }\n",
       "\n",
       "    .dataframe thead th {\n",
       "        text-align: right;\n",
       "    }\n",
       "</style>\n",
       "<table border=\"1\" class=\"dataframe\">\n",
       "  <thead>\n",
       "    <tr style=\"text-align: right;\">\n",
       "      <th></th>\n",
       "      <th>A</th>\n",
       "      <th>B</th>\n",
       "    </tr>\n",
       "  </thead>\n",
       "  <tbody>\n",
       "    <tr>\n",
       "      <th>0</th>\n",
       "      <td>[1.23, 2.57, 3.79]</td>\n",
       "      <td>[7.12, 8.46]</td>\n",
       "    </tr>\n",
       "    <tr>\n",
       "      <th>1</th>\n",
       "      <td>[4.12, 5.46, 6.79]</td>\n",
       "      <td>[9.79, 10.12, 11.46]</td>\n",
       "    </tr>\n",
       "  </tbody>\n",
       "</table>\n",
       "</div>"
      ],
      "text/plain": [
       "                    A                     B\n",
       "0  [1.23, 2.57, 3.79]          [7.12, 8.46]\n",
       "1  [4.12, 5.46, 6.79]  [9.79, 10.12, 11.46]"
      ]
     },
     "execution_count": 6,
     "metadata": {},
     "output_type": "execute_result"
    }
   ],
   "source": [
    "import pandas as pd\n",
    "\n",
    "# Create a sample DataFrame with arrays containing float numbers\n",
    "data = {\n",
    "    'A': [[1.234, 2.567, 3.789], [4.123, 5.456, 6.789]],\n",
    "    'B': [[7.123, 8.456], [9.789, 10.123, 11.456]]\n",
    "}\n",
    "\n",
    "df = pd.DataFrame(data)\n",
    "\n",
    "# Define the number of decimal places to round to\n",
    "decimal_places = 2  # Change this as needed\n",
    "\n",
    "# Define a function to round numbers within an array\n",
    "\n",
    "\n",
    "def round_array(arr):\n",
    "    return [round(x, decimal_places) for x in arr]\n",
    "\n",
    "\n",
    "# Use .applymap with a lambda function to round all numbers in arrays\n",
    "df = df.applymap(lambda x: round_array(x) if isinstance(\n",
    "    x, list) else round(x, decimal_places))\n",
    "\n",
    "# Now, the DataFrame 'df' contains all float numbers rounded to 'decimal_places' decimal places, including those in arrays\n",
    "df"
   ]
  },
  {
   "cell_type": "code",
   "execution_count": null,
   "metadata": {},
   "outputs": [],
   "source": []
  }
 ],
 "metadata": {
  "kernelspec": {
   "display_name": "Python 3",
   "language": "python",
   "name": "python3"
  },
  "language_info": {
   "codemirror_mode": {
    "name": "ipython",
    "version": 3
   },
   "file_extension": ".py",
   "mimetype": "text/x-python",
   "name": "python",
   "nbconvert_exporter": "python",
   "pygments_lexer": "ipython3",
   "version": "3.11.0"
  }
 },
 "nbformat": 4,
 "nbformat_minor": 2
}
